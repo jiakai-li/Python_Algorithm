{
 "cells": [
  {
   "cell_type": "code",
   "execution_count": 1,
   "metadata": {},
   "outputs": [],
   "source": [
    "def get_value(item_list, pick_list):\n",
    "    values = [i[1] for i in item_list]\n",
    "    return sum([i*j for (i, j) in zip(values, pick_list)])"
   ]
  },
  {
   "cell_type": "code",
   "execution_count": 17,
   "metadata": {},
   "outputs": [],
   "source": [
    "def bag(bag_capacity, cur_weight, items_info, cur_idx, picks):\n",
    "    if cur_idx >= len(items_info) or cur_weight >= bag_capacity:\n",
    "        global MAX_PICKS\n",
    "        if get_value(items_info, picks) > get_value(items_info, MAX_PICKS):\n",
    "            MAX_PICKS = picks[:]\n",
    "    else:\n",
    "        item_weight = items_info[cur_idx][0]\n",
    "        if cur_weight + item_weight <= bag_capacity:\n",
    "            picks[cur_idx] = 1\n",
    "            bag(bag_capacity, cur_weight + item_weight, items_info, cur_idx + 1, picks)\n",
    "        \n",
    "        picks[cur_idx] = 0\n",
    "        bag(bag_capacity, cur_weight, items_info, cur_idx + 1, picks)"
   ]
  },
  {
   "cell_type": "code",
   "execution_count": 34,
   "metadata": {},
   "outputs": [],
   "source": [
    "MAX_PICKS =[]\n",
    "items_info = [(4, 15), (2, 7), (1, 4), (1, 2), (4, 10)]\n",
    "capacity = 10\n",
    "picks = [0] * len(items_info)"
   ]
  },
  {
   "cell_type": "code",
   "execution_count": 35,
   "metadata": {},
   "outputs": [],
   "source": [
    "bag(capacity, 0, items_info, 0, picks)"
   ]
  },
  {
   "cell_type": "code",
   "execution_count": 36,
   "metadata": {},
   "outputs": [
    {
     "data": {
      "text/plain": [
       "32"
      ]
     },
     "execution_count": 36,
     "metadata": {},
     "output_type": "execute_result"
    }
   ],
   "source": [
    "get_value(items_info, MAX_PICKS)"
   ]
  },
  {
   "cell_type": "code",
   "execution_count": 37,
   "metadata": {},
   "outputs": [
    {
     "data": {
      "text/plain": [
       "[1, 1, 0, 0, 1]"
      ]
     },
     "execution_count": 37,
     "metadata": {},
     "output_type": "execute_result"
    }
   ],
   "source": [
    "MAX_PICKS"
   ]
  }
 ],
 "metadata": {
  "kernelspec": {
   "display_name": "plantandfood-py3.7",
   "language": "python",
   "name": "plantandfood"
  },
  "language_info": {
   "codemirror_mode": {
    "name": "ipython",
    "version": 3
   },
   "file_extension": ".py",
   "mimetype": "text/x-python",
   "name": "python",
   "nbconvert_exporter": "python",
   "pygments_lexer": "ipython3",
   "version": "3.7.4"
  }
 },
 "nbformat": 4,
 "nbformat_minor": 2
}
