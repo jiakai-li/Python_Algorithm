{
 "cells": [
  {
   "cell_type": "code",
   "execution_count": 23,
   "metadata": {},
   "outputs": [],
   "source": [
    "# 顺序栈\n",
    "class ArrayStack(object):\n",
    "    def __init__(self, capacity):\n",
    "        self.capacity = capacity\n",
    "        self.length = 0\n",
    "        self.stack = [None] * capacity\n",
    "        \n",
    "    def push(self, item):\n",
    "        if self.length >= self.capacity:\n",
    "            raise Exception(\"Stack is full!\")\n",
    "        self.stack[self.length] = item\n",
    "        self.length += 1\n",
    "        \n",
    "    def pop(self):\n",
    "        if self.length == 0:\n",
    "            raise Exception(\"Stack is empty!\")\n",
    "        item = self.stack[self.length - 1]\n",
    "        self.length -= 1\n",
    "        return item"
   ]
  }
 ],
 "metadata": {
  "kernelspec": {
   "display_name": "plantandfood-py3.7",
   "language": "python",
   "name": "plantandfood"
  },
  "language_info": {
   "codemirror_mode": {
    "name": "ipython",
    "version": 3
   },
   "file_extension": ".py",
   "mimetype": "text/x-python",
   "name": "python",
   "nbconvert_exporter": "python",
   "pygments_lexer": "ipython3",
   "version": "3.7.4"
  }
 },
 "nbformat": 4,
 "nbformat_minor": 2
}
