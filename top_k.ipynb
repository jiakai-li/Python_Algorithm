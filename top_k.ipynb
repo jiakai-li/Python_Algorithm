{
 "cells": [
  {
   "cell_type": "code",
   "execution_count": 1,
   "metadata": {},
   "outputs": [],
   "source": [
    "import heapq"
   ]
  },
  {
   "cell_type": "code",
   "execution_count": 54,
   "metadata": {},
   "outputs": [],
   "source": [
    "def find_top_k(alist, k):\n",
    "    count = 0\n",
    "    heap = []\n",
    "    for i in alist:\n",
    "        if count < k:\n",
    "            heapq.heappush(heap, i)\n",
    "            count += 1\n",
    "        else:\n",
    "            ma = heap[0]\n",
    "            if i > ma:\n",
    "                heapq.heappop(heap)\n",
    "                heapq.heappush(heap, i)\n",
    "    return heap[0]"
   ]
  },
  {
   "cell_type": "code",
   "execution_count": 58,
   "metadata": {},
   "outputs": [],
   "source": [
    "a = [10,9,8,7,6,5,4,3,2,1]"
   ]
  },
  {
   "cell_type": "code",
   "execution_count": 60,
   "metadata": {},
   "outputs": [
    {
     "data": {
      "text/plain": [
       "8"
      ]
     },
     "execution_count": 60,
     "metadata": {},
     "output_type": "execute_result"
    }
   ],
   "source": [
    "find_top_k(a, 3)"
   ]
  },
  {
   "cell_type": "code",
   "execution_count": 75,
   "metadata": {},
   "outputs": [],
   "source": [
    "def find_quantile(alist, q):\n",
    "    max_heap_length = int(len(alist) * q)    \n",
    "    max_heap = []\n",
    "\n",
    "    count = 0\n",
    "    for i in alist:\n",
    "        if count < max_heap_length:\n",
    "            heapq.heappush(max_heap, i)\n",
    "            count += 1\n",
    "        else:\n",
    "            ma = max_heap[0]\n",
    "            if i > ma:\n",
    "                heapq.heappop(max_heap)\n",
    "                heapq.heappush(max_heap, i)\n",
    "    return max_heap[0]"
   ]
  },
  {
   "cell_type": "code",
   "execution_count": 76,
   "metadata": {},
   "outputs": [],
   "source": [
    "a = [1,9,8,2,6,5,4,3,7,10]"
   ]
  },
  {
   "cell_type": "code",
   "execution_count": 82,
   "metadata": {},
   "outputs": [
    {
     "data": {
      "text/plain": [
       "4"
      ]
     },
     "execution_count": 82,
     "metadata": {},
     "output_type": "execute_result"
    }
   ],
   "source": [
    "find_quantile(a, 0.7)"
   ]
  },
  {
   "cell_type": "code",
   "execution_count": null,
   "metadata": {},
   "outputs": [],
   "source": []
  }
 ],
 "metadata": {
  "kernelspec": {
   "display_name": "plantandfood-py3.7",
   "language": "python",
   "name": "plantandfood"
  },
  "language_info": {
   "codemirror_mode": {
    "name": "ipython",
    "version": 3
   },
   "file_extension": ".py",
   "mimetype": "text/x-python",
   "name": "python",
   "nbconvert_exporter": "python",
   "pygments_lexer": "ipython3",
   "version": "3.7.4"
  }
 },
 "nbformat": 4,
 "nbformat_minor": 2
}
