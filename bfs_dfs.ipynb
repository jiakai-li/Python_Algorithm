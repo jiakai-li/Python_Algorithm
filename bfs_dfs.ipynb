{
 "cells": [
  {
   "cell_type": "code",
   "execution_count": 11,
   "metadata": {},
   "outputs": [],
   "source": [
    "class Graph:\n",
    "    def __init__(self, numVertices):\n",
    "        self.v = numVertices\n",
    "        self.graph = [[] for _ in range(self.v)]\n",
    "        \n",
    "    def add_edge(self, s, t):\n",
    "        self.graph[s].append(t)\n",
    "        self.graph[t].append(s)\n",
    "        \n",
    "    def __repr__(self):\n",
    "        return str(self.graph)\n",
    "    \n",
    "    def bfs(self, s, t):\n",
    "        if s == t:\n",
    "            return\n",
    "        \n",
    "        visited = [False] * self.v\n",
    "        visited[s] = True\n",
    "        \n",
    "        q = []\n",
    "        q.append(s)\n",
    "        \n",
    "        prev = [None] * self.v\n",
    "        \n",
    "        while len(q) != 0:\n",
    "            tmp = q.pop()\n",
    "            to_search = self.graph[tmp]\n",
    "            for i in to_search:\n",
    "                if not visited[i]:\n",
    "                    prev[i] = tmp\n",
    "                    if i == t:\n",
    "                        print('->'.join(self._print(prev, s, t)))\n",
    "                        return\n",
    "                    visited[i] = True\n",
    "                    q.append(i)\n",
    "                    \n",
    "    def dfs(self, s, t):\n",
    "        found = False\n",
    "        visited = [False] * self.v\n",
    "        prev = [None] * self.v\n",
    "        \n",
    "        self._recur_dfs(s, t, visited, prev, found)\n",
    "        print('->'.join(self._print(prev, s, t)))\n",
    "        \n",
    "    def _recur_dfs(self, w, t, visited, prev, found):\n",
    "        visited[w] = True\n",
    "        if found:\n",
    "            return\n",
    "\n",
    "        if w == t:\n",
    "            found = True\n",
    "\n",
    "        for i in self.graph[w]:\n",
    "            if not visited[i]:\n",
    "                prev[i] = w\n",
    "                self._recur_dfs(i, t, visited, prev, found)\n",
    "\n",
    "    def _print(self, prev, s, t):\n",
    "        if prev[t] or t != s:\n",
    "            yield from self._print(prev, s, prev[t])\n",
    "        yield str(t)"
   ]
  },
  {
   "cell_type": "code",
   "execution_count": 12,
   "metadata": {},
   "outputs": [],
   "source": [
    "graph = Graph(8)\n",
    "\n",
    "graph.add_edge(0, 1)\n",
    "graph.add_edge(0, 3)\n",
    "graph.add_edge(1, 2)\n",
    "graph.add_edge(1, 4)\n",
    "graph.add_edge(2, 5)\n",
    "graph.add_edge(3, 4)\n",
    "graph.add_edge(4, 5)\n",
    "graph.add_edge(4, 6)\n",
    "graph.add_edge(5, 7)\n",
    "graph.add_edge(6, 7)"
   ]
  },
  {
   "cell_type": "code",
   "execution_count": 13,
   "metadata": {},
   "outputs": [
    {
     "name": "stdout",
     "output_type": "stream",
     "text": [
      "0->3->4->6->7\n"
     ]
    }
   ],
   "source": [
    "graph.bfs(0, 7)"
   ]
  },
  {
   "cell_type": "code",
   "execution_count": 14,
   "metadata": {
    "pixiedust": {
     "displayParams": {}
    }
   },
   "outputs": [
    {
     "name": "stdout",
     "output_type": "stream",
     "text": [
      "0->1->2->5->4->6->7\n"
     ]
    }
   ],
   "source": [
    "graph.dfs(0, 7)"
   ]
  }
 ],
 "metadata": {
  "kernelspec": {
   "display_name": "plantandfood-py3.7",
   "language": "python",
   "name": "plantandfood"
  },
  "language_info": {
   "codemirror_mode": {
    "name": "ipython",
    "version": 3
   },
   "file_extension": ".py",
   "mimetype": "text/x-python",
   "name": "python",
   "nbconvert_exporter": "python",
   "pygments_lexer": "ipython3",
   "version": "3.7.4"
  }
 },
 "nbformat": 4,
 "nbformat_minor": 2
}
