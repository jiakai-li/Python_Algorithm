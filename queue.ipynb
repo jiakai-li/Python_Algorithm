{
 "cells": [
  {
   "cell_type": "markdown",
   "metadata": {},
   "source": [
    "顺序队列"
   ]
  },
  {
   "cell_type": "code",
   "execution_count": 21,
   "metadata": {},
   "outputs": [],
   "source": [
    "# ArrayQueue -- space cannot be reused\n",
    "class ArrayQueue(object):\n",
    "    def __init__(self, cap):\n",
    "        self.capacity = cap\n",
    "        self.head = 0\n",
    "        self.tail = 0\n",
    "        self.queue = [None] * cap\n",
    "        \n",
    "    def enqueue(self, item):\n",
    "        if self.tail == self.capacity:\n",
    "            raise Exception(\"Queue is full !\")\n",
    "        self.queue[self.tail] = item\n",
    "        self.tail += 1\n",
    "    \n",
    "    def dequeue(self):\n",
    "        if self.tail == self.head:\n",
    "            raise Exception(\"Queue is empty !\")\n",
    "        item = self.queue[self.head]\n",
    "        self.head += 1\n",
    "        return item\n",
    "    \n",
    "    def __repr__(self):\n",
    "        return str(self.queue)"
   ]
  },
  {
   "cell_type": "markdown",
   "metadata": {},
   "source": [
    "随着不断添加数据，指针到达末尾后无法继续添加，队列就不可用了，解决方案：enqueue发现没用空间时进行数据搬移"
   ]
  },
  {
   "cell_type": "code",
   "execution_count": 65,
   "metadata": {},
   "outputs": [],
   "source": [
    "# ArrayQueue -- space can be reused\n",
    "class ArrayQueue(object):\n",
    "    def __init__(self, cap):\n",
    "        self.capacity = cap\n",
    "        self.head = 0\n",
    "        self.tail = 0\n",
    "        self.queue = [None] * cap\n",
    "        \n",
    "#     def enqueue(self, item): # First way\n",
    "#         if self.tail == self.capacity and self.head == 0:\n",
    "#             raise Exception(\"Queue is full !\")\n",
    "#         elif self.tail == self.capacity and self.head != 0:\n",
    "#             length = self.tail - self.head\n",
    "#             for i in range(length):\n",
    "#                 self.queue[i] = self.queue[self.head]\n",
    "#                 self.head += 1\n",
    "#             self.head = 0\n",
    "#             self.tail = length\n",
    "#         self.queue[self.tail] = item\n",
    "#         self.tail += 1\n",
    "    \n",
    "    def enqueue(self, item): # Second way\n",
    "        if self.tail == self.capacity and self.head == 0:\n",
    "            raise Exception(\"Queue is full !\")\n",
    "        elif self.tail == self.capacity and self.head != 0:\n",
    "            i = self.head\n",
    "            while i != self.tail:\n",
    "                self.queue[i - self.head] = self.queue[i]\n",
    "                i += 1\n",
    "            self.tail -= self.head\n",
    "            self.head = 0\n",
    "        self.queue[self.tail] = item\n",
    "        self.tail += 1\n",
    "    \n",
    "    def dequeue(self):\n",
    "        if self.tail == self.head:\n",
    "            raise Exception(\"Queue is empty !\")\n",
    "        item = self.queue[self.head]\n",
    "        self.head += 1\n",
    "        return item\n",
    "    \n",
    "    def __repr__(self):\n",
    "        return str(self.queue)"
   ]
  },
  {
   "cell_type": "markdown",
   "metadata": {},
   "source": [
    "链式队列"
   ]
  },
  {
   "cell_type": "code",
   "execution_count": 76,
   "metadata": {},
   "outputs": [],
   "source": [
    "class Node(object):\n",
    "    def __init__(self, data, next_node=None):\n",
    "        self.data = data\n",
    "        self.next = next_node\n",
    "\n",
    "\n",
    "class LinkedListQueue(object):\n",
    "    def __init__(self):\n",
    "        self._head = None\n",
    "        self._tail = None\n",
    "        \n",
    "    def enqueue(self, item):\n",
    "        new_node = Node(item)\n",
    "        if self._tail:\n",
    "            self._tail.next = new_node\n",
    "        else:\n",
    "            self._head = new_node\n",
    "        self._tail = new_node\n",
    "        \n",
    "    def dequeue(self):\n",
    "        if self._head:\n",
    "            val = self._head.data\n",
    "            self._head = self._head.next\n",
    "            if not self._head:\n",
    "                self._tail = None\n",
    "            return val\n",
    "        \n",
    "    def __repr__(self):\n",
    "        vals = []\n",
    "        current = self._head\n",
    "        while current:\n",
    "            vals.append(current.data)\n",
    "            current = current.next\n",
    "        return \"->\".join(str(value) for value in vals)"
   ]
  },
  {
   "cell_type": "markdown",
   "metadata": {},
   "source": [
    "循环队列"
   ]
  },
  {
   "cell_type": "code",
   "execution_count": 108,
   "metadata": {},
   "outputs": [],
   "source": [
    "class CircularQueue(object):\n",
    "    def __init__(self, cap):\n",
    "        self.head = 0\n",
    "        self.tail = 0\n",
    "        self.capacity = cap\n",
    "        self.queue = [None] * cap\n",
    "        \n",
    "    def enqueue(self, item):\n",
    "        if (self.tail + 1) % self.capacity == self.tail:\n",
    "            raise Exception(\"Queue is full !\")\n",
    "        self.queue[self.tail] = item\n",
    "        self.tail = (self.tail + 1) % self.capacity\n",
    "        \n",
    "    def dequeue(self):\n",
    "        if self.head == self.tail:\n",
    "            raise Exception(\"Queue is empty !\")\n",
    "        val = self.queue[self.head]\n",
    "        self.head = (self.head + 1) % self.capacity\n",
    "        return val\n",
    "    \n",
    "    def __repr__(self):\n",
    "        return str(self.queue)"
   ]
  },
  {
   "cell_type": "markdown",
   "metadata": {},
   "source": [
    "通过队列长度来判断满空可读性更强，但是每次enqueue和dequeueu都会涉及一次额外操作，时间复杂度会下降"
   ]
  },
  {
   "cell_type": "code",
   "execution_count": 133,
   "metadata": {},
   "outputs": [],
   "source": [
    "class CircularQueue2(object):\n",
    "    def __init__(self, cap):\n",
    "        self.head = 0\n",
    "        self.tail = 0\n",
    "        self.length = 0\n",
    "        self.capacity = cap\n",
    "        self.queue = [None] * cap\n",
    "\n",
    "    def enqueue(self, item):\n",
    "        if self.length == self.capacity:\n",
    "            raise Exception(\"Queue is full !\")\n",
    "        self.queue[self.tail] = item\n",
    "        self.tail = (self.tail + 1) % self.capacity\n",
    "        self.length += 1\n",
    "\n",
    "    def dequeue(self):\n",
    "        if self.length == 0:\n",
    "            raise Exception(\"Queue is empty !\")\n",
    "        val = self.queue[self.head]\n",
    "        self.head = (self.head + 1) % self.capacity\n",
    "        self.length -= 1\n",
    "        return val\n",
    "\n",
    "    def __repr__(self):\n",
    "        return str(self.queue)"
   ]
  }
 ],
 "metadata": {
  "kernelspec": {
   "display_name": "plantandfood-py3.7",
   "language": "python",
   "name": "plantandfood"
  },
  "language_info": {
   "codemirror_mode": {
    "name": "ipython",
    "version": 3
   },
   "file_extension": ".py",
   "mimetype": "text/x-python",
   "name": "python",
   "nbconvert_exporter": "python",
   "pygments_lexer": "ipython3",
   "version": "3.7.4"
  }
 },
 "nbformat": 4,
 "nbformat_minor": 2
}
