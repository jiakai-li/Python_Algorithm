{
 "cells": [
  {
   "cell_type": "code",
   "execution_count": 17,
   "metadata": {},
   "outputs": [],
   "source": [
    "# 大顶堆\n",
    "class LargeHeap(object):\n",
    "    def __init__(self, cap=10):\n",
    "        self.length = 0\n",
    "        self.cap = cap\n",
    "        self.heap = [0] * (cap + 1)\n",
    "    \n",
    "    @classmethod\n",
    "    def _parent(cls, child_idx):\n",
    "        return child_idx // 2\n",
    "    \n",
    "    @classmethod\n",
    "    def _left(cls, parent_idx):\n",
    "        return parent_idx * 2\n",
    "    \n",
    "    @classmethod\n",
    "    def _right(cls, parent_idx):\n",
    "        return parent_idx * 2 + 1\n",
    "    \n",
    "    def insert(self, data):\n",
    "        if self.length >= self.cap:\n",
    "            return -1\n",
    "        self.heap[self.length + 1] = data\n",
    "        self.length += 1\n",
    "        self._heap_up()\n",
    "\n",
    "    def pop(self):\n",
    "        if self.length < 1:\n",
    "            return -1\n",
    "        res = self.heap[1]\n",
    "        self.heap[1] = self.heap[self.length]\n",
    "        self.heap[self.length] = 0\n",
    "        self.length -= 1\n",
    "        self._heap_down()\n",
    "        return res\n",
    "    \n",
    "    def peek(self):\n",
    "        return self.heap[1]\n",
    "\n",
    "    def _heap_up(self):\n",
    "        c_idx, p_idx = self.length, LargeHeap._parent(self.length)\n",
    "        while p_idx > 0 and self.heap[c_idx] > self.heap[p_idx]:\n",
    "            self.heap[c_idx], self.heap[p_idx] = self.heap[p_idx], self.heap[c_idx]\n",
    "            c_idx, p_idx = p_idx, LargeHeap._parent(p_idx)\n",
    "            \n",
    "    def _heap_down(self, count=None, idx=1):\n",
    "        if not count:\n",
    "            count = self.length\n",
    "        c_idx, l_idx, r_idx = idx, LargeHeap._left(idx), LargeHeap._right(idx)\n",
    "        maxi, maxi_idx = self.heap[c_idx], c_idx\n",
    "        while True:\n",
    "            if l_idx <= count and self.heap[c_idx] < self.heap[l_idx]:\n",
    "                maxi_idx, maxi = l_idx, self.heap[l_idx]\n",
    "            if r_idx <= count and self.heap[maxi_idx] < self.heap[r_idx]:\n",
    "                maxi_idx, maxi = r_idx, self.heap[r_idx]\n",
    "\n",
    "            if maxi_idx == c_idx:\n",
    "                break\n",
    "            else:\n",
    "                self.heap[c_idx], self.heap[maxi_idx] = self.heap[maxi_idx], self.heap[c_idx]\n",
    "                c_idx, l_idx, r_idx = maxi_idx, LargeHeap._left(maxi_idx), LargeHeap._right(maxi_idx)\n",
    "    \n",
    "    def createFromList(self, alist):\n",
    "        self.cap = len(alist)\n",
    "        self.length = len(alist)\n",
    "        self.heap = alist[:]\n",
    "        self.heap.append(0)\n",
    "        self.heap[0], self.heap[self.length] = self.heap[self.length], self.heap[0]\n",
    "        for i in range(self.length // 2, 0, -1):\n",
    "            self._heap_down(idx = i)\n",
    "\n",
    "    def sort(self):\n",
    "        for i in range(1, self.length):\n",
    "            self.heap[1], self.heap[-i] = self.heap[-i], self.heap[1]\n",
    "            self._heap_down(count = self.length - i)\n",
    "\n",
    "    def __repr__(self):\n",
    "        return str(self.heap[1:])"
   ]
  },
  {
   "cell_type": "code",
   "execution_count": 289,
   "metadata": {},
   "outputs": [
    {
     "name": "stdout",
     "output_type": "stream",
     "text": [
      "[9, 8, 3, 3, 7, 1, 0, 0, 0, 0]\n",
      "9\n",
      "8\n",
      "7\n",
      "3\n",
      "3\n",
      "1\n",
      "[-2, 0, 1, 2, 3, 4, 5, 6, 6, 7, 8, 9, 10]\n"
     ]
    }
   ],
   "source": [
    "hp = Heap(10)\n",
    "hp.insert(3)\n",
    "hp.insert(9)\n",
    "hp.insert(1)\n",
    "hp.insert(8)\n",
    "hp.insert(7)\n",
    "hp.insert(3)\n",
    "print(hp)\n",
    "for _ in range(6):\n",
    "    print(hp.pop())\n",
    "a = [0, 6, 3, 4, 0, 9, 2, 7, 5, -2, 8, 1, 6, 10]\n",
    "h = Heap(len(a))\n",
    "h.createFromList(a[1:])\n",
    "h.sort()\n",
    "print(h)"
   ]
  },
  {
   "cell_type": "code",
   "execution_count": 9,
   "metadata": {},
   "outputs": [],
   "source": [
    "# 小顶堆\n",
    "class SmallHeap(object):\n",
    "    def __init__(self, cap=10):\n",
    "        self.cap = cap\n",
    "        self.length = 0\n",
    "        self.heap = [0] * (self.cap + 1)\n",
    "    \n",
    "    def insert(self, data):\n",
    "        if self.length >= self.cap:\n",
    "            return -1\n",
    "        self.heap[self.length + 1] = data\n",
    "        self.length += 1\n",
    "        self._heap_up()\n",
    "    \n",
    "    def pop(self):\n",
    "        if self.length < 1:\n",
    "            return -1\n",
    "        res = self.heap[1]\n",
    "        self.heap[1] = self.heap[self.length]\n",
    "        self.heap[self.length] = 0\n",
    "        self.length -= 1\n",
    "        self._heap_down()\n",
    "        return res\n",
    "    \n",
    "    def peek(self):\n",
    "        return self.heap[1]\n",
    "    \n",
    "    @classmethod\n",
    "    def _parent(self, idx):\n",
    "        return idx // 2\n",
    "    \n",
    "    @classmethod\n",
    "    def _left(self, idx):\n",
    "        return 2 * idx\n",
    "    \n",
    "    @classmethod\n",
    "    def _right(self, idx):\n",
    "        return 2 * idx + 1\n",
    "    \n",
    "    def _heap_up(self):\n",
    "        c_idx, p_idx = self.length, SmallHeap._parent(self.length)\n",
    "        while p_idx > 0 and self.heap[c_idx] < self.heap[p_idx]:\n",
    "            self.heap[c_idx], self.heap[p_idx] = self.heap[p_idx], self.heap[c_idx]\n",
    "            c_idx, p_idx = p_idx, SmallHeap._parent(p_idx)\n",
    "            \n",
    "    def _heap_down(self):\n",
    "        c_idx, l_idx, r_idx = 1, SmallHeap._left(1), SmallHeap._right(1)\n",
    "        mini, mini_idx = self.heap[c_idx], c_idx\n",
    "        while True:\n",
    "            if l_idx <= self.length and self.heap[c_idx] > self.heap[l_idx]:\n",
    "                mini, mini_idx = self.heap[l_idx], l_idx\n",
    "            if r_idx <= self.length and self.heap[mini_idx] > self.heap[r_idx]:\n",
    "                mini, mini_idx = self.heap[r_idx], r_idx\n",
    "            \n",
    "            if mini_idx == c_idx:\n",
    "                break\n",
    "            else:\n",
    "                self.heap[c_idx], self.heap[mini_idx] = self.heap[mini_idx], self.heap[c_idx]\n",
    "                c_idx, l_idx, r_idx = mini_idx, SmallHeap._left(mini_idx), SmallHeap._right(mini_idx)\n",
    "            \n",
    "    def __repr__(self):\n",
    "        return str(self.heap[1:])"
   ]
  },
  {
   "cell_type": "markdown",
   "metadata": {},
   "source": [
    "应用一：合并小文件"
   ]
  },
  {
   "cell_type": "code",
   "execution_count": 2,
   "metadata": {},
   "outputs": [],
   "source": [
    "import os"
   ]
  },
  {
   "cell_type": "code",
   "execution_count": 3,
   "metadata": {},
   "outputs": [],
   "source": [
    "input_path = r'C:\\Users\\hrajzl\\Desktop\\code\\local\\src\\heap_app\\merge_small_files\\input'\n",
    "ouput_path = r'C:\\Users\\hrajzl\\Desktop\\code\\local\\src\\heap_app\\merge_small_files\\output\\out.txt'"
   ]
  },
  {
   "cell_type": "code",
   "execution_count": 4,
   "metadata": {},
   "outputs": [],
   "source": [
    "def read_line(file, line):\n",
    "    try:\n",
    "        with open(file, 'r') as f:\n",
    "            for i, line_content in enumerate(f):\n",
    "                if i == line:\n",
    "                    next_line = line + 1\n",
    "                    return (line_content, next_line)\n",
    "            return None\n",
    "    except:\n",
    "        return None"
   ]
  },
  {
   "cell_type": "code",
   "execution_count": 5,
   "metadata": {},
   "outputs": [],
   "source": [
    "def write_content_to_file(content, file):\n",
    "    d = os.path.dirname(file)\n",
    "    if not os.path.exists(d):\n",
    "        os.mkdir(d)\n",
    "    \n",
    "    with open(file, 'a+') as f:\n",
    "        if not content.endswith('\\n'):\n",
    "            content += '\\n'\n",
    "        f.write(str(content))"
   ]
  },
  {
   "cell_type": "code",
   "execution_count": 6,
   "metadata": {},
   "outputs": [],
   "source": [
    "def merge_small_files(input_path, ouput_path):\n",
    "    input_files = os.listdir(input_path)\n",
    "    lines = [0] * len(input_files)\n",
    "    \n",
    "    h = SmallHeap()\n",
    "    \n",
    "    for i in range(len(input_files)):\n",
    "        file = os.path.join(input_path, input_files[i])\n",
    "        line = lines[i]\n",
    "        v = read_line(file, line)\n",
    "        if v:\n",
    "            v += (i, )\n",
    "            h.insert(v)\n",
    "\n",
    "    while True:\n",
    "        if h.length == 0:\n",
    "            break\n",
    "        \n",
    "        content, line_number, file_idx = h.pop()\n",
    "        write_content_to_file(content, ouput_path)\n",
    "        lines[file_idx] = line_number\n",
    "        input_file = os.path.join(input_path, input_files[file_idx])\n",
    "        value = read_line(input_file, line_number)\n",
    "        \n",
    "        if value is not None:\n",
    "            value += (file_idx,)\n",
    "            h.insert(value)"
   ]
  },
  {
   "cell_type": "code",
   "execution_count": 8,
   "metadata": {},
   "outputs": [],
   "source": [
    "merge_small_files(input_path, ouput_path)"
   ]
  },
  {
   "cell_type": "markdown",
   "metadata": {},
   "source": [
    "应用二：利用堆求Top K"
   ]
  },
  {
   "cell_type": "code",
   "execution_count": 12,
   "metadata": {},
   "outputs": [],
   "source": [
    "def find_top_k(alist, k):\n",
    "    h = SmallHeap(k)\n",
    "    for i in range(k):\n",
    "        h.insert(alist[i])\n",
    "    \n",
    "    for i in alist[k:]:\n",
    "        if i > h.peek():\n",
    "            h.pop()\n",
    "            h.insert(i)\n",
    "    \n",
    "    return h.peek()"
   ]
  },
  {
   "cell_type": "markdown",
   "metadata": {},
   "source": [
    "应用三：利用堆求中位数"
   ]
  },
  {
   "cell_type": "code",
   "execution_count": 18,
   "metadata": {},
   "outputs": [],
   "source": [
    "def find_median(alist):\n",
    "    length = len(alist)\n",
    "    small_cap = length // 2\n",
    "    large_cap = length - small_cap\n",
    "    \n",
    "    small_heap = SmallHeap(small_cap)\n",
    "    large_heap = LargeHeap(large_cap)\n",
    "    \n",
    "    for i in range(small_cap):\n",
    "        small_heap.insert(alist[i])\n",
    "    \n",
    "    for item in alist[small_cap:]:\n",
    "        if item > small_heap.peek():\n",
    "            tmp = small_heap.pop()\n",
    "            small_heap.insert(item)\n",
    "            large_heap.insert(tmp)\n",
    "    return large_heap.peek()"
   ]
  },
  {
   "cell_type": "code",
   "execution_count": 22,
   "metadata": {},
   "outputs": [
    {
     "data": {
      "text/plain": [
       "6"
      ]
     },
     "execution_count": 22,
     "metadata": {},
     "output_type": "execute_result"
    }
   ],
   "source": [
    "find_median([1,2,3,4,5,6,7,8,9,10,11])"
   ]
  }
 ],
 "metadata": {
  "kernelspec": {
   "display_name": "plantandfood-py3.7",
   "language": "python",
   "name": "plantandfood"
  },
  "language_info": {
   "codemirror_mode": {
    "name": "ipython",
    "version": 3
   },
   "file_extension": ".py",
   "mimetype": "text/x-python",
   "name": "python",
   "nbconvert_exporter": "python",
   "pygments_lexer": "ipython3",
   "version": "3.7.4"
  }
 },
 "nbformat": 4,
 "nbformat_minor": 2
}
