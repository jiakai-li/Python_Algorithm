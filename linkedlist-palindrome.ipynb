{
 "cells": [
  {
   "cell_type": "code",
   "execution_count": 1,
   "metadata": {},
   "outputs": [],
   "source": [
    "class Node(object):\n",
    "    def __init__(self, data, next_node=None):\n",
    "        self.__data = data\n",
    "        self.__next = next_node\n",
    "        \n",
    "    @property\n",
    "    def data(self):\n",
    "        return self.__data\n",
    "    \n",
    "    @data.setter\n",
    "    def data(self, data):\n",
    "        self.__data = data\n",
    "    \n",
    "    @property\n",
    "    def next_node(self):\n",
    "        return self.__next\n",
    "    \n",
    "    @next_node.setter\n",
    "    def next_node(self, next_node):\n",
    "        self.__next = next_node\n",
    "        \n",
    "    def __repr__(self):\n",
    "        return str(self.data)"
   ]
  },
  {
   "cell_type": "code",
   "execution_count": 136,
   "metadata": {},
   "outputs": [],
   "source": [
    "class LinkedList(object):\n",
    "    # 单向链表\n",
    "    def __init__(self):\n",
    "        self.__length = 0\n",
    "        self.__head = None\n",
    "        \n",
    "    def __repr__(self):\n",
    "        res = []\n",
    "        node = self.__head\n",
    "        while node is not None:\n",
    "            res.append(str(node.data))\n",
    "            node = node.next_node\n",
    "        return '->'.join(res)\n",
    "    \n",
    "    @property\n",
    "    def head(self):\n",
    "        return self.__head\n",
    "        \n",
    "    def createFromNode(self, node):\n",
    "        res = LinkedList()\n",
    "        while node is not None:\n",
    "            curr = node\n",
    "            node = node.next_node\n",
    "            curr.next_node = None\n",
    "            res.append(curr)\n",
    "        return res\n",
    "            \n",
    "    def append(self, node):\n",
    "        if self.__head is None:\n",
    "            self.__head = node\n",
    "        else:\n",
    "            curr = self.__head\n",
    "            while curr.next_node is not None:\n",
    "                curr = curr.next_node\n",
    "            node.next_node = curr.next_node\n",
    "            curr.next_node = node\n",
    "        \n",
    "    def insert_to_head(self, value):\n",
    "        new_node = Node(value)\n",
    "        new_node.next_node = self.__head\n",
    "        self.__head = new_node\n",
    "        self.__length += 1\n",
    "        return new_node\n",
    "        \n",
    "    def insert_after(self, node, value):\n",
    "        if node is None:\n",
    "            return\n",
    "        new_node = Node(value)\n",
    "        new_node.next_node = node.next_node\n",
    "        node.next_node = new_node\n",
    "        self.__length += 1\n",
    "        return new_node\n",
    "        \n",
    "    def insert_before(self, node, value):\n",
    "        if node is None or self.__head is None:\n",
    "            return\n",
    "        \n",
    "        if node == self.__head:\n",
    "            self.insert_to_head(value)\n",
    "            return\n",
    "        \n",
    "        present = self.__head\n",
    "        found = True\n",
    "        while present.next_node != node:\n",
    "            if present.next_node is None:\n",
    "                found = False\n",
    "                break\n",
    "            present = present.next_node\n",
    "\n",
    "        new_node = Node(value)\n",
    "        if found:\n",
    "            present.next_node = new_node\n",
    "            new_node.next_node = node\n",
    "            self.__length += 1\n",
    "        return new_node\n",
    "    \n",
    "    def find_by_value(self, val):\n",
    "        curr = self.__head\n",
    "        while (curr is not None) and (curr.data != val):\n",
    "            curr = curr.next_node\n",
    "        return curr\n",
    "    \n",
    "    def find_by_index(self, index):\n",
    "        if index >= self.__length:\n",
    "            return -1\n",
    "\n",
    "        curr = self.__head\n",
    "        curr_idx = 0\n",
    "        while curr_idx < index:\n",
    "            curr = curr.next_node\n",
    "            curr_idx += 1\n",
    "        return curr\n",
    "    \n",
    "    def find_the_middle(self):\n",
    "        slow_node = self.__head\n",
    "        fast_node = self.__head.next_node\n",
    "        while fast_node and fast_node.next_node:\n",
    "            slow_node = slow_node.next_node\n",
    "            fast_node = fast_node.next_node.next_node\n",
    "        \n",
    "        return slow_node\n",
    "        \n",
    "    \n",
    "    def delete_by_node(self, node):\n",
    "        if self.__head is None:\n",
    "            return\n",
    "        \n",
    "        if self.__head == node:\n",
    "            self.__head = self.__head.next_node\n",
    "            return\n",
    "        \n",
    "        present = self.__head\n",
    "        found = True\n",
    "        while present.next_node != node:\n",
    "            if present.next_node is None:\n",
    "                found = False\n",
    "                break\n",
    "            present = present.next_node\n",
    "            \n",
    "        if found:\n",
    "            present.next_node = node.next_node\n",
    "            self.__length -= 1\n",
    "            \n",
    "    def delete_last_n_node(self, n):\n",
    "        if n >= self.__length:\n",
    "            return -1\n",
    "        \n",
    "        slow = self.__head\n",
    "        fast = self.__head\n",
    "        \n",
    "        i = 0\n",
    "        while i < n:\n",
    "            fast = fast.next_node\n",
    "            i += 1\n",
    "\n",
    "        while fast is not None:\n",
    "            temp = slow\n",
    "            slow = slow.next_node\n",
    "            fast = fast.next_node\n",
    "        \n",
    "        temp.next_node = slow.next_node\n",
    "            \n",
    "    def has_ring(self):\n",
    "        fast = self.__head\n",
    "        slow = self.__head\n",
    "        \n",
    "        while (fast is not None) and (fast.next_node is not None):\n",
    "            slow = slow.next_node\n",
    "            fast = fast.next_node.next_node\n",
    "            if fast == slow:\n",
    "                return True\n",
    "        return False\n",
    "    \n",
    "    def merge(self, other):\n",
    "        pass\n",
    "    \n",
    "    def swap(self, node_a, node_b):\n",
    "        prev_a = self.__head\n",
    "        prev_b = self.__head\n",
    "\n",
    "        if node_a is self.__head:\n",
    "            while prev_b.next_node is not node_b:\n",
    "                prev_b = prev_b.next_node\n",
    "            \n",
    "            node_a.next_node, node_b.next_node, prev_b.next_node = \\\n",
    "                node_b.next_node, node_a.next_node, node_a\n",
    "            self.__head = node_b\n",
    "            return\n",
    "\n",
    "        if node_b is self.__head:\n",
    "            while prev_a.next_node is not node_a:\n",
    "                prev_a = prev_a.next_node\n",
    "            \n",
    "            node_b.next_node, node_a.next_node, prev_a.next_node = \\\n",
    "                node_a.next_node, node_b.next_node, node_b\n",
    "            self.__head = node_a\n",
    "            return\n",
    "\n",
    "        while prev_a.next_node is not node_a:\n",
    "            prev_a = prev_a.next_node\n",
    "        while prev_b.next_node is not node_b:\n",
    "            prev_b = prev_b.next_node\n",
    "        if prev_a is None or prev_b is None:\n",
    "            return -1\n",
    "\n",
    "        prev_a.next_node, node_a.next_node, prev_b.next_node, node_b.next_node = \\\n",
    "            node_b, node_b.next_node, node_a, node_a.next_node\n",
    "        return\n",
    "        \n",
    "    def reverse(self):\n",
    "        head = self.__head\n",
    "        reversed_head = None\n",
    "        while head is not None:\n",
    "            next_node = head.next_node\n",
    "            head.next_node = reversed_head\n",
    "            reversed_head = head\n",
    "            head = next_node\n",
    "        self.__head = reversed_head\n"
   ]
  },
  {
   "cell_type": "code",
   "execution_count": 137,
   "metadata": {},
   "outputs": [],
   "source": [
    "a = LinkedList()\n",
    "one = a.insert_to_head(1)\n",
    "two = a.insert_after(one, 2)\n",
    "three = a.insert_after(two, 3)\n",
    "four = a.insert_after(three, 4)\n",
    "five = a.insert_after(four, 5)\n",
    "six = a.insert_after(five, 6)\n",
    "seven = a.insert_after(six, 7)\n",
    "eight = a.insert_after(seven, 8)"
   ]
  },
  {
   "cell_type": "code",
   "execution_count": 138,
   "metadata": {},
   "outputs": [],
   "source": [
    "three = a.find_by_value(3)\n",
    "six = a.find_by_value(6)"
   ]
  },
  {
   "cell_type": "code",
   "execution_count": 139,
   "metadata": {},
   "outputs": [
    {
     "data": {
      "text/plain": [
       "1->2->3->4->5->6->7->8"
      ]
     },
     "execution_count": 139,
     "metadata": {},
     "output_type": "execute_result"
    }
   ],
   "source": [
    "a"
   ]
  },
  {
   "cell_type": "code",
   "execution_count": 140,
   "metadata": {},
   "outputs": [],
   "source": [
    "a.swap(three, six)"
   ]
  },
  {
   "cell_type": "code",
   "execution_count": 141,
   "metadata": {},
   "outputs": [
    {
     "data": {
      "text/plain": [
       "1->2->6->4->5->3->7->8"
      ]
     },
     "execution_count": 141,
     "metadata": {},
     "output_type": "execute_result"
    }
   ],
   "source": [
    "a"
   ]
  },
  {
   "cell_type": "code",
   "execution_count": 142,
   "metadata": {},
   "outputs": [],
   "source": [
    "one = a.find_by_value(1)\n",
    "six = a.find_by_value(6)"
   ]
  },
  {
   "cell_type": "code",
   "execution_count": 143,
   "metadata": {},
   "outputs": [
    {
     "data": {
      "text/plain": [
       "1->2->6->4->5->3->7->8"
      ]
     },
     "execution_count": 143,
     "metadata": {},
     "output_type": "execute_result"
    }
   ],
   "source": [
    "a"
   ]
  },
  {
   "cell_type": "code",
   "execution_count": 144,
   "metadata": {},
   "outputs": [],
   "source": [
    "a.swap(one, six)"
   ]
  },
  {
   "cell_type": "code",
   "execution_count": 145,
   "metadata": {},
   "outputs": [
    {
     "data": {
      "text/plain": [
       "6->2->1->4->5->3->7->8"
      ]
     },
     "execution_count": 145,
     "metadata": {},
     "output_type": "execute_result"
    }
   ],
   "source": [
    "a"
   ]
  },
  {
   "cell_type": "code",
   "execution_count": 146,
   "metadata": {},
   "outputs": [],
   "source": [
    "a.swap(one, six)"
   ]
  },
  {
   "cell_type": "code",
   "execution_count": 147,
   "metadata": {},
   "outputs": [
    {
     "data": {
      "text/plain": [
       "1->2->6->4->5->3->7->8"
      ]
     },
     "execution_count": 147,
     "metadata": {},
     "output_type": "execute_result"
    }
   ],
   "source": [
    "a"
   ]
  },
  {
   "cell_type": "code",
   "execution_count": 148,
   "metadata": {},
   "outputs": [],
   "source": [
    "eight = a.find_by_value(8)\n",
    "six = a.find_by_value(6)"
   ]
  },
  {
   "cell_type": "code",
   "execution_count": 149,
   "metadata": {},
   "outputs": [],
   "source": [
    "a.swap(eight, six)"
   ]
  },
  {
   "cell_type": "code",
   "execution_count": 150,
   "metadata": {},
   "outputs": [
    {
     "data": {
      "text/plain": [
       "1->2->8->4->5->3->7->6"
      ]
     },
     "execution_count": 150,
     "metadata": {},
     "output_type": "execute_result"
    }
   ],
   "source": [
    "a"
   ]
  },
  {
   "cell_type": "code",
   "execution_count": 151,
   "metadata": {},
   "outputs": [],
   "source": [
    "a.swap(one, six)"
   ]
  },
  {
   "cell_type": "code",
   "execution_count": 152,
   "metadata": {},
   "outputs": [
    {
     "data": {
      "text/plain": [
       "6->2->8->4->5->3->7->1"
      ]
     },
     "execution_count": 152,
     "metadata": {},
     "output_type": "execute_result"
    }
   ],
   "source": [
    "a"
   ]
  },
  {
   "cell_type": "code",
   "execution_count": 490,
   "metadata": {},
   "outputs": [],
   "source": [
    "b = LinkedList()\n",
    "one = b.insert_to_head(1)\n",
    "two = b.insert_after(one, 4)\n",
    "three = b.insert_after(two, 6)"
   ]
  },
  {
   "cell_type": "code",
   "execution_count": 491,
   "metadata": {
    "pixiedust": {
     "displayParams": {}
    }
   },
   "outputs": [],
   "source": [
    "c=a.merge(b)"
   ]
  }
 ],
 "metadata": {
  "kernelspec": {
   "display_name": "plantandfood-py3.7",
   "language": "python",
   "name": "plantandfood"
  },
  "language_info": {
   "codemirror_mode": {
    "name": "ipython",
    "version": 3
   },
   "file_extension": ".py",
   "mimetype": "text/x-python",
   "name": "python",
   "nbconvert_exporter": "python",
   "pygments_lexer": "ipython3",
   "version": "3.7.4"
  }
 },
 "nbformat": 4,
 "nbformat_minor": 2
}
