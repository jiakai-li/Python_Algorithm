{
 "cells": [
  {
   "cell_type": "code",
   "execution_count": 1,
   "metadata": {},
   "outputs": [],
   "source": [
    "# Define node\n",
    "class ListNode(object):\n",
    "    def __init__(self, k, v):\n",
    "        self.key = k\n",
    "        self.val = v\n",
    "        self.next = None\n",
    "        self.prev = None"
   ]
  },
  {
   "cell_type": "code",
   "execution_count": 10,
   "metadata": {},
   "outputs": [],
   "source": [
    "class LRUCache(object):\n",
    "    def __init__(self, capacity):\n",
    "        self.cap = capacity\n",
    "        self.hkeys = {}\n",
    "        # 哨兵结点\n",
    "        self.head = ListNode(None, -1)\n",
    "        self.tail = ListNode(None, -1)\n",
    "        self.head.next = self.tail\n",
    "        self.tail.prev = self.head\n",
    "    \n",
    "    def get(self, key):\n",
    "        if key in self.hkeys.keys():\n",
    "            # 拿到目标结点\n",
    "            cur = self.hkeys[key]\n",
    "            \n",
    "            # 将目标结点取出\n",
    "            cur.prev.next = cur.next\n",
    "            cur.next.prev = cur.prev\n",
    "            \n",
    "            # 将目标结点放到头部\n",
    "            prev_head = self.head.next\n",
    "            self.head.next = cur\n",
    "            cur.prev = self.head\n",
    "            cur.next = prev_head\n",
    "            prev_head.prev = cur\n",
    "            \n",
    "            return self.hkeys[key].val\n",
    "        return -1\n",
    "    \n",
    "    def put(self, key, val):\n",
    "        if key in self.hkeys.keys():\n",
    "            # 拿到目标结点\n",
    "            cur = self.hkeys[key]\n",
    "            cur.val = val\n",
    "            \n",
    "            # 将目标结点取出\n",
    "            cur.prev.next = cur.next\n",
    "            cur.next.prev = cur.prev\n",
    "            \n",
    "            # 将目标结点放到头部\n",
    "            prev_head = self.head.next\n",
    "            self.head.next = cur\n",
    "            cur.prev = self.head\n",
    "            cur.next = prev_head\n",
    "            prev_head.prev = cur\n",
    "        else:\n",
    "            cur = ListNode(key, val)\n",
    "            self.hkeys[key] = cur\n",
    "            \n",
    "            prev_head = self.head.next\n",
    "            self.head.next = cur\n",
    "            cur.prev = self.head\n",
    "            cur.next = prev_head\n",
    "            prev_head.prev = cur\n",
    "            \n",
    "            if len(self.hkeys.keys()) > self.cap:\n",
    "                self.hkeys.pop(self.tail.prev.key)\n",
    "                \n",
    "                self.tail.prev.prev.next = self.tail\n",
    "                self.tail.prev = self.tail.prev.prev\n",
    "    \n",
    "    def __repr__(self):\n",
    "        vals = []\n",
    "        present = self.head.next\n",
    "        while present.next is not None:\n",
    "            vals.append(str(present.val))\n",
    "            present = present.next\n",
    "        return '->'.join(vals)"
   ]
  },
  {
   "cell_type": "code",
   "execution_count": 13,
   "metadata": {},
   "outputs": [
    {
     "name": "stdout",
     "output_type": "stream",
     "text": [
      "3->b->a->1\n"
     ]
    }
   ],
   "source": [
    "cache = LRUCache(5)\n",
    "cache.put(1, 1)\n",
    "cache.put('a', 'a')\n",
    "cache.put('b', 'b')\n",
    "cache.put(3, 3)\n",
    "print(cache)"
   ]
  },
  {
   "cell_type": "code",
   "execution_count": 14,
   "metadata": {},
   "outputs": [
    {
     "data": {
      "text/plain": [
       "'a'"
      ]
     },
     "execution_count": 14,
     "metadata": {},
     "output_type": "execute_result"
    }
   ],
   "source": [
    "cache.get('a')"
   ]
  },
  {
   "cell_type": "code",
   "execution_count": 15,
   "metadata": {},
   "outputs": [
    {
     "data": {
      "text/plain": [
       "-1"
      ]
     },
     "execution_count": 15,
     "metadata": {},
     "output_type": "execute_result"
    }
   ],
   "source": [
    "cache.get(2)"
   ]
  },
  {
   "cell_type": "code",
   "execution_count": 16,
   "metadata": {},
   "outputs": [
    {
     "name": "stdout",
     "output_type": "stream",
     "text": [
      "a->3->b->1\n"
     ]
    }
   ],
   "source": [
    "print(cache)"
   ]
  }
 ],
 "metadata": {
  "kernelspec": {
   "display_name": "plantandfood-py3.7",
   "language": "python",
   "name": "plantandfood"
  },
  "language_info": {
   "codemirror_mode": {
    "name": "ipython",
    "version": 3
   },
   "file_extension": ".py",
   "mimetype": "text/x-python",
   "name": "python",
   "nbconvert_exporter": "python",
   "pygments_lexer": "ipython3",
   "version": "3.7.4"
  }
 },
 "nbformat": 4,
 "nbformat_minor": 2
}
