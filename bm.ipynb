{
 "cells": [
  {
   "cell_type": "markdown",
   "metadata": {},
   "source": [
    "Step1: Bad Character 初始化"
   ]
  },
  {
   "cell_type": "code",
   "execution_count": 40,
   "metadata": {},
   "outputs": [],
   "source": [
    "def generateBC(search_mode, size):\n",
    "    \"\"\"Generate the bad character hash table\n",
    "    \n",
    "    search_mode: the searching mode\n",
    "    size: the size of the hash table\n",
    "    \"\"\"\n",
    "    res = [-1] * size # Initialize (-1 because we want to set Xi to -1 if the bad char is not presented in the search mode)\n",
    "    for idx, char in enumerate(search_mode):\n",
    "        res[ord(char)] = idx # Set index for the character\n",
    "    return res"
   ]
  },
  {
   "cell_type": "markdown",
   "metadata": {},
   "source": [
    "Step2: BM的大框架\n",
    "\n",
    "- 实现坏字符规则\n",
    "- 不考虑好后缀规则\n",
    "- 不考虑坏字符规则向前挪动的问题"
   ]
  },
  {
   "cell_type": "code",
   "execution_count": 41,
   "metadata": {},
   "outputs": [],
   "source": [
    "def bmSearch(main_mode, search_mode):\n",
    "    SIZE = 256\n",
    "    n, m = len(main_mode), len(search_mode)\n",
    "    \n",
    "    if n <= m:\n",
    "        return 0 if main_mode == search_mode else -1\n",
    "    \n",
    "    bcList = generateBC(search_mode, SIZE)\n",
    "    \n",
    "    i = 0\n",
    "    while i <= n - m:\n",
    "        j = m - 1\n",
    "        while j >= 0:\n",
    "            if main_mode[i + j] != search_mode[j]:\n",
    "                break\n",
    "            else:\n",
    "                j -= 1\n",
    "        if j < 0:\n",
    "            return i\n",
    "        \n",
    "        i = i + (j - bcList[ord(main_mode[i + j])]) # here is why we set bcList to -1 in: res = [-1] * size\n",
    "    \n",
    "    return -1"
   ]
  },
  {
   "cell_type": "markdown",
   "metadata": {},
   "source": [
    "Step3: Good Suffix 初始化\n",
    "\n",
    "拿下标从0到i的子串（i可以是0到m-2）与整个模式串求公共后缀子串"
   ]
  },
  {
   "cell_type": "code",
   "execution_count": 25,
   "metadata": {},
   "outputs": [],
   "source": [
    "def generateGS(search_mode):\n",
    "    m = len(search_mode)\n",
    "    \n",
    "    suffix = [-1] * m\n",
    "    prefix = [False] * m\n",
    "    \n",
    "    for i in range(0, m - 1): # i从前往后挪动，最远挪动到 m-2\n",
    "        k = 0\n",
    "        \n",
    "        for j in range(i, -1, -1): # j从i往前挪动，最远挪动到 0\n",
    "            if search_mode[j] == search_mode[m - 1 - k]: # 随着j向前挪动，模式串从最后一位开始往前依次进行比较\n",
    "                k += 1 # 如果两个字符相等，则长度 k + 1\n",
    "                suffix[k] = j # 同时更新suffix数组\n",
    "                \n",
    "                if j == 0:\n",
    "                    prefix[k] = True\n",
    "            else: # 由于j 和 m - 1 - k 是本轮搜索的起始，因此如果不相等说明后续的比较都没有用，直接 break\n",
    "                break\n",
    "\n",
    "    return suffix, prefix"
   ]
  },
  {
   "cell_type": "markdown",
   "metadata": {},
   "source": [
    "Step4: 根据好后缀规则计算模式串的滑动位数"
   ]
  },
  {
   "cell_type": "code",
   "execution_count": 35,
   "metadata": {},
   "outputs": [],
   "source": [
    "def moveGS(j, m, suffix, prefix):\n",
    "    \"\"\"Calculate the move steps using good suffix\n",
    "    \n",
    "    j: idx of bad char in search_mode\n",
    "    m: length of search_mode\n",
    "    suffix:\n",
    "    prefix:\n",
    "    \"\"\"\n",
    "    k = m - j - 1 # k is the length of the good suffix\n",
    "    \n",
    "    if suffix[k] != -1:\n",
    "        return j - suffix[k] + 1\n",
    "    else:\n",
    "        for r in range(j + 2, m):\n",
    "            if prefix[m - r]:\n",
    "                return r # 后缀子串同样也是模式串的前缀子串，因此模式串从0位挪动到 r\n",
    "        return m"
   ]
  },
  {
   "cell_type": "markdown",
   "metadata": {},
   "source": [
    "Step5: 整合好后缀规则"
   ]
  },
  {
   "cell_type": "code",
   "execution_count": 43,
   "metadata": {},
   "outputs": [],
   "source": [
    "def bmSearch(main_mode, search_mode):\n",
    "    SIZE = 256\n",
    "    n, m = len(main_mode), len(search_mode)\n",
    "    \n",
    "    if n <= m:\n",
    "        return 0 if main_mode == search_mode else -1\n",
    "    \n",
    "    bcList = generateBC(search_mode, SIZE)\n",
    "    \n",
    "    suffix, prefix = generateGS(search_mode)\n",
    "    \n",
    "    i = 0\n",
    "    while i <= n - m:\n",
    "        j = m - 1\n",
    "        while j >= 0:\n",
    "            if main_mode[i + j] != search_mode[j]:\n",
    "                break\n",
    "            else:\n",
    "                j -= 1\n",
    "        if j < 0:\n",
    "            return i\n",
    "        \n",
    "        bc_move = j - bcList[ord(main_mode[i + j])]\n",
    "        gs_move = 0\n",
    "        \n",
    "        if j < m - 1:\n",
    "            gs_move = moveGS(j, m, suffix, prefix)\n",
    "        \n",
    "        i = i + max(bc_move, gs_move)\n",
    "    \n",
    "    return -1"
   ]
  },
  {
   "cell_type": "code",
   "execution_count": null,
   "metadata": {},
   "outputs": [],
   "source": []
  }
 ],
 "metadata": {
  "kernelspec": {
   "display_name": "plantandfood-py3.7",
   "language": "python",
   "name": "plantandfood"
  },
  "language_info": {
   "codemirror_mode": {
    "name": "ipython",
    "version": 3
   },
   "file_extension": ".py",
   "mimetype": "text/x-python",
   "name": "python",
   "nbconvert_exporter": "python",
   "pygments_lexer": "ipython3",
   "version": "3.7.4"
  }
 },
 "nbformat": 4,
 "nbformat_minor": 2
}
