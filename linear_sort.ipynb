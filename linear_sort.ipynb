{
 "cells": [
  {
   "cell_type": "code",
   "execution_count": 48,
   "metadata": {},
   "outputs": [],
   "source": [
    "import pixiedust"
   ]
  },
  {
   "cell_type": "code",
   "execution_count": 35,
   "metadata": {},
   "outputs": [],
   "source": [
    "# Need a lot of space if the range is too large\n",
    "def bucket_sort(a):\n",
    "    mini = min(a)\n",
    "    maxi = max(a)\n",
    "    bucket_num = maxi - mini + 1\n",
    "    buckets = [[] for _ in range(bucket_num)]\n",
    "    for i in a:\n",
    "        buckets[i - mini].append(i)\n",
    "    return [item for sublist in buckets for item in sublist]"
   ]
  },
  {
   "cell_type": "code",
   "execution_count": 61,
   "metadata": {},
   "outputs": [],
   "source": [
    "def counting_sort(a):\n",
    "    # 求 min 和 max 也是需要时间的\n",
    "    mini = min(a)\n",
    "    maxi = max(a)\n",
    "    rang = maxi - mini + 1\n",
    "    buckets = [0 for _ in range(rang)]\n",
    "    # 求 len 也是需要时间的\n",
    "    tmp = [None for _ in range(len(a))]\n",
    "    \n",
    "    for i in a:\n",
    "        buckets[i] += 1\n",
    "\n",
    "    for i in range(1, rang):\n",
    "        buckets[i] = buckets[i] + buckets[i-1]\n",
    "        \n",
    "    for i in range(len(a) - 1, -1, -1):\n",
    "        idx = a[i]\n",
    "        tmp[buckets[idx] - 1] = a[i]\n",
    "        buckets[idx] -= 1\n",
    "    return tmp"
   ]
  },
  {
   "cell_type": "code",
   "execution_count": 64,
   "metadata": {},
   "outputs": [],
   "source": [
    "def radix_sort(a):\n",
    "    pass"
   ]
  },
  {
   "cell_type": "code",
   "execution_count": null,
   "metadata": {},
   "outputs": [],
   "source": []
  }
 ],
 "metadata": {
  "kernelspec": {
   "display_name": "plantandfood-py3.7",
   "language": "python",
   "name": "plantandfood"
  },
  "language_info": {
   "codemirror_mode": {
    "name": "ipython",
    "version": 3
   },
   "file_extension": ".py",
   "mimetype": "text/x-python",
   "name": "python",
   "nbconvert_exporter": "python",
   "pygments_lexer": "ipython3",
   "version": "3.7.4"
  }
 },
 "nbformat": 4,
 "nbformat_minor": 2
}
