{
 "cells": [
  {
   "cell_type": "code",
   "execution_count": 1,
   "metadata": {},
   "outputs": [],
   "source": [
    "# Merge sort\n",
    "def merge_sort(a):\n",
    "    _merge_sort(a, 0, len(a) - 1)\n",
    "    \n",
    "def _merge_sort(a, l, h):\n",
    "    if l < h:\n",
    "        m = l + (h - l) // 2\n",
    "        _merge_sort(a, l, m)\n",
    "        _merge_sort(a, m + 1, h)\n",
    "        _merge(a, l, m, h)\n",
    "        \n",
    "def _merge(a, l, m, h):\n",
    "    i, j = l, m + 1\n",
    "    tmp = []\n",
    "    while i <= m and j <= h:\n",
    "        if a[i] <= a[j]:\n",
    "            tmp.append(a[i])\n",
    "            i += 1\n",
    "        else:\n",
    "            tmp.append(a[j])\n",
    "            j += 1\n",
    "    if i <= m:\n",
    "        tmp.extend(a[i:m+1])\n",
    "    else:\n",
    "        tmp.extend(a[j:h+1])\n",
    "    a[l:h+1] = tmp"
   ]
  },
  {
   "cell_type": "code",
   "execution_count": 2,
   "metadata": {},
   "outputs": [],
   "source": [
    "# Quick sort\n",
    "def quick_sort(a):\n",
    "    _quick_sort(a, 0, len(a) - 1)\n",
    "\n",
    "def _quick_sort(a, l, r):\n",
    "    if l >= r:\n",
    "        return\n",
    "    q = _partition(a, l, r)\n",
    "    _quick_sort(a, l, q - 1)\n",
    "    _quick_sort(a, q + 1, r)\n",
    "    \n",
    "def _partition(a, l, r):\n",
    "    p = a[r]\n",
    "    i = l\n",
    "    for j in range(i, r):\n",
    "        if a[j] < p:\n",
    "            a[i], a[j] = a[j], a[i]\n",
    "            i += 1\n",
    "    a[i], a[r] = a[r], a[i]\n",
    "    return i"
   ]
  },
  {
   "cell_type": "code",
   "execution_count": null,
   "metadata": {},
   "outputs": [],
   "source": [
    "# Using partition to find the top k value\n",
    "def quick_top_k(a, k):\n",
    "    if k > len(a):\n",
    "        raise Exception(\"Index out of bound\")\n",
    "    val = _quick_sort_k(a, k, 0, len(a) - 1)\n",
    "    return val\n",
    "    \n",
    "def _quick_sort_k(a, k, l, r):\n",
    "    p = _partition(a, l, r)\n",
    "    if p + 1 == k:\n",
    "        return a[p]\n",
    "    elif p + 1 < k:\n",
    "        return _quick_sort_k(a, k, p + 1, r)\n",
    "    else:\n",
    "        return _quick_sort_k(a, k, l, p - 1)"
   ]
  },
  {
   "cell_type": "code",
   "execution_count": 3,
   "metadata": {},
   "outputs": [],
   "source": [
    "def test_sort(f):\n",
    "    a1 = [3, 5, 6, 7, 8]\n",
    "    quick_sort(a1)\n",
    "    assert a1 == [3, 5, 6, 7, 8]\n",
    "    a2 = [2, 2, 2, 2]\n",
    "    quick_sort(a2)\n",
    "    assert a2 == [2, 2, 2, 2]\n",
    "    a3 = [4, 3, 2, 1]\n",
    "    quick_sort(a3)\n",
    "    assert a3 == [1, 2, 3, 4]\n",
    "    a4 = [5, -1, 9, 3, 7, 8, 3, -2, 9]\n",
    "    quick_sort(a4)\n",
    "    assert a4 == [-2, -1, 3, 3, 5, 7, 8, 9, 9]\n",
    "    test_array = [1, 1, 1, 1]\n",
    "    f(test_array)\n",
    "    assert test_array == [1, 1, 1, 1]\n",
    "    test_array = [4, 1, 2, 3]\n",
    "    f(test_array)\n",
    "    assert test_array == [1, 2, 3, 4]\n",
    "    test_array = [4, 3, 2, 1]\n",
    "    f(test_array)\n",
    "    assert test_array == [1, 2, 3, 4]\n",
    "    test_array = [4, 3, 2, 1, 2, 3, 4]\n",
    "    f(test_array)\n",
    "    assert test_array == [1, 2, 2, 3, 3, 4, 4]\n",
    "    test_array = [1, 2, 3, 4, 3, 2, 1]\n",
    "    f(test_array)\n",
    "    assert test_array == [1, 1, 2, 2, 3, 3, 4]\n",
    "    test_array = []\n",
    "    f(test_array)\n",
    "    assert test_array == []\n",
    "    test_array = [1]\n",
    "    f(test_array)\n",
    "    assert test_array == [1]\n",
    "    test_array = [5, -1, 9, 3, 7, 8, 3, -2, 9]\n",
    "    f(test_array)\n",
    "    assert test_array == [-2, -1, 3, 3, 5, 7, 8, 9, 9]"
   ]
  },
  {
   "cell_type": "code",
   "execution_count": 4,
   "metadata": {},
   "outputs": [],
   "source": [
    "test_sort(merge_sort)\n",
    "test_sort(quick_sort)"
   ]
  }
 ],
 "metadata": {
  "kernelspec": {
   "display_name": "plantandfood-py3.7",
   "language": "python",
   "name": "plantandfood"
  },
  "language_info": {
   "codemirror_mode": {
    "name": "ipython",
    "version": 3
   },
   "file_extension": ".py",
   "mimetype": "text/x-python",
   "name": "python",
   "nbconvert_exporter": "python",
   "pygments_lexer": "ipython3",
   "version": "3.7.4"
  }
 },
 "nbformat": 4,
 "nbformat_minor": 2
}
