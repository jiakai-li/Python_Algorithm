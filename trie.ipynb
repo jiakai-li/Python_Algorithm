{
 "cells": [
  {
   "cell_type": "code",
   "execution_count": 3,
   "metadata": {},
   "outputs": [],
   "source": [
    "class TrieNode(object):\n",
    "    def __init__(self, data):\n",
    "        self.data = data\n",
    "        self.isEndingNode = False\n",
    "        self.child = [-1] * 26"
   ]
  },
  {
   "cell_type": "code",
   "execution_count": 4,
   "metadata": {},
   "outputs": [],
   "source": [
    "class Trie(object):\n",
    "    def __init__(self):\n",
    "        self.root = TrieNode('/')\n",
    "    \n",
    "    def insert(self, word):\n",
    "        word_length = len(word)\n",
    "        currentNode = self.root\n",
    "        for i in range(word_length):\n",
    "            c = word[i]\n",
    "            idx = ord(c) - ord('a')\n",
    "\n",
    "            if currentNode.child[idx] == -1:\n",
    "                newNode = TrieNode(c)\n",
    "                currentNode.child[idx] = newNode\n",
    "            \n",
    "            currentNode = currentNode.child[idx]\n",
    "\n",
    "        currentNode.isEndingNode = True\n",
    "        \n",
    "    def find(self, word):\n",
    "        word_length = len(word)\n",
    "        currentNode = self.root\n",
    "        \n",
    "        for i in range(word_length):\n",
    "            c = word[i]\n",
    "            idx = ord(c) - ord('a')\n",
    "            \n",
    "            if currentNode.child[idx] == -1:\n",
    "                return False\n",
    "            \n",
    "            currentNode = currentNode.child[idx]\n",
    "        \n",
    "        if not currentNode.isEndingNode:\n",
    "            return False\n",
    "        else:\n",
    "            return True"
   ]
  },
  {
   "cell_type": "code",
   "execution_count": 7,
   "metadata": {},
   "outputs": [],
   "source": [
    "string_list = ['abc', 'abd', 'abcc', 'accd', 'acml', 'Ptrick', 'data', 'structure', 'algorithm']"
   ]
  },
  {
   "cell_type": "code",
   "execution_count": 126,
   "metadata": {},
   "outputs": [],
   "source": [
    "class TrieNodeDict(object):\n",
    "    def __init__(self, data):\n",
    "        self.data = data\n",
    "        self.child = {}\n",
    "        self.isEndingNode = False\n",
    "        \n",
    "class TrieDict(object):\n",
    "    def __init__(self):\n",
    "        self.root = TrieNodeDict('/')\n",
    "    \n",
    "    def insert(self, word):\n",
    "        length = len(word)\n",
    "        curNode = self.root\n",
    "        for i in range(length):\n",
    "            c = word[i]\n",
    "            if curNode.child.get(c) is None:\n",
    "                newNode = TrieNodeDict(c)\n",
    "                curNode.child[c] = newNode\n",
    "            curNode = curNode.child[c]\n",
    "        curNode.isEndingNode = True\n",
    "        \n",
    "    def find(self, word):\n",
    "        length = len(word)\n",
    "        curNode = self.root\n",
    "        for i in range(length):\n",
    "            c = word[i]\n",
    "            if curNode.child.get(c) is None:\n",
    "                return False\n",
    "            curNode = curNode.child[c]\n",
    "        \n",
    "        if curNode.isEndingNode:\n",
    "            return True\n",
    "        return False\n",
    "    \n",
    "    def common(self, prefix):\n",
    "        length = len(prefix)\n",
    "        curNode = self.root\n",
    "        for i in range(length):\n",
    "            c = prefix[i]\n",
    "            if curNode.child.get(c) is None:\n",
    "                return -1\n",
    "            curNode = curNode.child[c]\n",
    "        \n",
    "    def _recurse_find(self, node, res):\n",
    "        d = node.data\n",
    "        if res.get(d):\n",
    "            d = res.get(d)\n",
    "        for c in node.child:\n",
    "            res.update({d: d+c})\n",
    "            self._recurse_find(node.child[c], res)"
   ]
  },
  {
   "cell_type": "code",
   "execution_count": 127,
   "metadata": {},
   "outputs": [],
   "source": [
    "t = TrieDict()\n",
    "t.insert('abc')\n",
    "t.insert('ada')"
   ]
  },
  {
   "cell_type": "code",
   "execution_count": 125,
   "metadata": {},
   "outputs": [
    {
     "data": {
      "text/plain": [
       "{'a': 'ad', 'b': 'bc', 'd': 'da'}"
      ]
     },
     "execution_count": 125,
     "metadata": {},
     "output_type": "execute_result"
    }
   ],
   "source": [
    "res"
   ]
  },
  {
   "cell_type": "code",
   "execution_count": null,
   "metadata": {},
   "outputs": [],
   "source": []
  }
 ],
 "metadata": {
  "kernelspec": {
   "display_name": "plantandfood-py3.7",
   "language": "python",
   "name": "plantandfood"
  },
  "language_info": {
   "codemirror_mode": {
    "name": "ipython",
    "version": 3
   },
   "file_extension": ".py",
   "mimetype": "text/x-python",
   "name": "python",
   "nbconvert_exporter": "python",
   "pygments_lexer": "ipython3",
   "version": "3.7.4"
  }
 },
 "nbformat": 4,
 "nbformat_minor": 2
}
