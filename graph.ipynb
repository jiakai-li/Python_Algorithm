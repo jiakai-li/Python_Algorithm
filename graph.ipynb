{
 "cells": [
  {
   "cell_type": "code",
   "execution_count": 4,
   "metadata": {},
   "outputs": [],
   "source": [
    "# Adjacency Matrix\n",
    "class AjacencyMatrix:\n",
    "    def __init__(self, numVertices):\n",
    "        self.graph = [[0 for _ in range(numVertices)] for _ in range(numVertices)]\n",
    "        \n",
    "    def add_edge(self, v1, v2):\n",
    "        self.graph[v1][v2] = 1\n",
    "        self.graph[v2][v1] = 1\n",
    "    \n",
    "    def check(self, v1, v2):\n",
    "        return bool(self.graph[v1][v2])\n",
    "    \n",
    "    def __repr__(self):\n",
    "        res = []\n",
    "        for i in range(len(self.graph)):\n",
    "            tmp_res = str(i) + '->' + str([j for j, k in enumerate(self.graph[i]) if k == 1])\n",
    "            res.append(tmp_res)\n",
    "        return '\\n'.join(res)"
   ]
  },
  {
   "cell_type": "code",
   "execution_count": 30,
   "metadata": {},
   "outputs": [],
   "source": [
    "# Adjacency List\n",
    "class AjacencyListNode:\n",
    "    def __init__(self, data):\n",
    "        self.data = data\n",
    "        self.next = None\n",
    "\n",
    "class AjacencyList:\n",
    "    def __init__(self, numVertices):\n",
    "        self.graph = [AjacencyListNode(None) for _ in range(numVertices)]\n",
    "        \n",
    "    def add_edge(self, v1, v2):\n",
    "        self._add_edge(v1, v2)\n",
    "        self._add_edge(v2, v1)\n",
    "    \n",
    "    def _add_edge(self, v1, v2):\n",
    "        node = self.graph[v1]\n",
    "        new_node = AjacencyListNode(v2)\n",
    "        while node.next is not None and node.data != v2:\n",
    "            node = node.next\n",
    "        if node.data == v2:\n",
    "            return\n",
    "        else:\n",
    "            node.next = new_node\n",
    "        \n",
    "    def __repr__(self):\n",
    "        res = []\n",
    "        for i in range(len(self.graph)):\n",
    "            temp_res = []\n",
    "            cur_node = self.graph[i].next\n",
    "            while cur_node is not None:\n",
    "                temp_res.append(cur_node.data)\n",
    "                cur_node = cur_node.next\n",
    "            res.append(str(i) + '->' + str(temp_res))\n",
    "        return '\\n'.join(res)"
   ]
  },
  {
   "cell_type": "code",
   "execution_count": 31,
   "metadata": {},
   "outputs": [],
   "source": [
    "g = AjacencyList(5)"
   ]
  },
  {
   "cell_type": "code",
   "execution_count": null,
   "metadata": {},
   "outputs": [],
   "source": []
  }
 ],
 "metadata": {
  "kernelspec": {
   "display_name": "plantandfood-py3.7",
   "language": "python",
   "name": "plantandfood"
  },
  "language_info": {
   "codemirror_mode": {
    "name": "ipython",
    "version": 3
   },
   "file_extension": ".py",
   "mimetype": "text/x-python",
   "name": "python",
   "nbconvert_exporter": "python",
   "pygments_lexer": "ipython3",
   "version": "3.7.4"
  }
 },
 "nbformat": 4,
 "nbformat_minor": 2
}
