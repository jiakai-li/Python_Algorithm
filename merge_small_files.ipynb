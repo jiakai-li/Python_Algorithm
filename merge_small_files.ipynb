{
 "cells": [
  {
   "cell_type": "code",
   "execution_count": 1,
   "metadata": {},
   "outputs": [],
   "source": [
    "import os\n",
    "import heapq"
   ]
  },
  {
   "cell_type": "code",
   "execution_count": 2,
   "metadata": {},
   "outputs": [],
   "source": [
    "PATH = './input'"
   ]
  },
  {
   "cell_type": "code",
   "execution_count": 31,
   "metadata": {},
   "outputs": [],
   "source": [
    "def readLine(fi, l):\n",
    "    file_path = os.path.join(PATH, fi)\n",
    "    try:\n",
    "        with open(file_path, 'r') as f:\n",
    "            for i, line_content in enumerate(f):\n",
    "                if i == l:\n",
    "                    next_line = l + 1\n",
    "                    return (line_content, next_line)\n",
    "            return None\n",
    "    except:\n",
    "        return None"
   ]
  },
  {
   "cell_type": "code",
   "execution_count": 5,
   "metadata": {},
   "outputs": [],
   "source": [
    "def writeToFile(fi, value):\n",
    "    directory = os.path.dirname(fi)\n",
    "    if not os.path.exists(directory):\n",
    "        os.mkdir(directory)\n",
    "    \n",
    "    with open(fi, 'a+') as f:\n",
    "        if not value.endswith('\\n'):\n",
    "            value += '\\n'\n",
    "        f.write(str(value))"
   ]
  },
  {
   "cell_type": "code",
   "execution_count": 43,
   "metadata": {},
   "outputs": [],
   "source": [
    "def driver(input_path, output_file):\n",
    "    heap = []\n",
    "    files = os.listdir(input_path)\n",
    "    len_files = len(files)\n",
    "    lines = [0] * len_files\n",
    "    \n",
    "    for i in range(len_files):\n",
    "        value = readLine(files[i], lines[i])\n",
    "        if value is not None:\n",
    "            value += (i, )\n",
    "            heapq.heappush(heap, value)\n",
    "    \n",
    "    while True: \n",
    "        if len(heap) == 0:\n",
    "            break\n",
    "\n",
    "        content_to_write, line_idx, file_idx = heapq.heappop(heap)\n",
    "        writeToFile(output_file, content_to_write)\n",
    "\n",
    "        lines[file_idx] = line_idx\n",
    "        value = readLine(files[file_idx], lines[file_idx])\n",
    "\n",
    "        if value is not None:\n",
    "            value += (file_idx, )\n",
    "            heapq.heappush(heap, value)"
   ]
  },
  {
   "cell_type": "code",
   "execution_count": 45,
   "metadata": {
    "pixiedust": {
     "displayParams": {}
    },
    "scrolled": false
   },
   "outputs": [],
   "source": [
    "driver(PATH, './output/test.txt')"
   ]
  }
 ],
 "metadata": {
  "kernelspec": {
   "display_name": "plantandfood-py3.7",
   "language": "python",
   "name": "plantandfood"
  },
  "language_info": {
   "codemirror_mode": {
    "name": "ipython",
    "version": 3
   },
   "file_extension": ".py",
   "mimetype": "text/x-python",
   "name": "python",
   "nbconvert_exporter": "python",
   "pygments_lexer": "ipython3",
   "version": "3.7.4"
  }
 },
 "nbformat": 4,
 "nbformat_minor": 2
}
