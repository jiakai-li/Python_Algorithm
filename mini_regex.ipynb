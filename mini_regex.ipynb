{
 "cells": [
  {
   "cell_type": "code",
   "execution_count": 135,
   "metadata": {},
   "outputs": [],
   "source": [
    "class regex_matcher:\n",
    "    def __init__(self):\n",
    "        self.MATCHED = False\n",
    "\n",
    "    def r_match(self, regex_idx, main_idx, regex, main_str):\n",
    "        if self.MATCHED:\n",
    "            return\n",
    "\n",
    "        if regex_idx >= len(regex):\n",
    "            self.MATCHED = True\n",
    "            return\n",
    "\n",
    "        if main_idx >= len(main_str) and regex_idx < len(regex):\n",
    "            self.MATCHED = False\n",
    "            return\n",
    "\n",
    "        if regex[regex_idx] == '*':\n",
    "            for i in range(main_idx, len(main_str)):\n",
    "                self.r_match(regex_idx+1, i+1, regex, main_str)\n",
    "        elif regex[regex_idx] == '?':\n",
    "            self.r_match(regex_idx+1, main_idx+1, regex, main_str)\n",
    "            self.r_match(regex_idx+1, main_idx, regex, main_str)\n",
    "        else:\n",
    "            if regex[regex_idx] == main_str[main_idx]:\n",
    "                self.r_match(regex_idx+1, main_idx+1, regex, main_str)"
   ]
  },
  {
   "cell_type": "code",
   "execution_count": 141,
   "metadata": {},
   "outputs": [],
   "source": [
    "a = regex_matcher()"
   ]
  },
  {
   "cell_type": "code",
   "execution_count": 142,
   "metadata": {
    "pixiedust": {
     "displayParams": {}
    }
   },
   "outputs": [],
   "source": [
    "regex = 'ab*eee?d'\n",
    "main = 'abcdsadfkjlekjoiwjiojiewecd'\n",
    "a.r_match(0, 0, regex, main)"
   ]
  },
  {
   "cell_type": "code",
   "execution_count": 143,
   "metadata": {},
   "outputs": [
    {
     "data": {
      "text/plain": [
       "False"
      ]
     },
     "execution_count": 143,
     "metadata": {},
     "output_type": "execute_result"
    }
   ],
   "source": [
    "a.MATCHED"
   ]
  }
 ],
 "metadata": {
  "kernelspec": {
   "display_name": "plantandfood-py3.7",
   "language": "python",
   "name": "plantandfood"
  },
  "language_info": {
   "codemirror_mode": {
    "name": "ipython",
    "version": 3
   },
   "file_extension": ".py",
   "mimetype": "text/x-python",
   "name": "python",
   "nbconvert_exporter": "python",
   "pygments_lexer": "ipython3",
   "version": "3.7.4"
  }
 },
 "nbformat": 4,
 "nbformat_minor": 2
}
