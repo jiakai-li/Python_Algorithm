{
 "cells": [
  {
   "cell_type": "code",
   "execution_count": 46,
   "metadata": {},
   "outputs": [],
   "source": [
    "def calc_queens(row, res=None):\n",
    "    if not res:\n",
    "        res = [-1 for _ in range(8)]\n",
    "    if row == 8:\n",
    "        print_queens(res)\n",
    "        print(\"----------------\")\n",
    "        return\n",
    "    \n",
    "    for col in range(8):\n",
    "        if is_ok(row, col, res):\n",
    "            res[row] = col\n",
    "            calc_queens(row + 1, res)\n",
    "\n",
    "def is_ok(row, col, res):\n",
    "    leftUp = col - 1\n",
    "    rightUp = col + 1\n",
    "    for r in range(row - 1, -1, -1):\n",
    "        if res[r] == col:\n",
    "            return False\n",
    "        if leftUp >= 0 and res[r] == leftUp:\n",
    "            return False\n",
    "        if rightUp <= 7 and res[r] == rightUp:\n",
    "            return False\n",
    "        leftUp -= 1\n",
    "        rightUp += 1\n",
    "    return True\n",
    "\n",
    "def print_queens(res):\n",
    "    for r in range(8):\n",
    "        for c in range(8):\n",
    "            if res[r] == c:\n",
    "                print(\"Q \", end='')\n",
    "            else:\n",
    "                print(\"* \", end='')\n",
    "        print()"
   ]
  }
 ],
 "metadata": {
  "kernelspec": {
   "display_name": "plantandfood-py3.7",
   "language": "python",
   "name": "plantandfood"
  },
  "language_info": {
   "codemirror_mode": {
    "name": "ipython",
    "version": 3
   },
   "file_extension": ".py",
   "mimetype": "text/x-python",
   "name": "python",
   "nbconvert_exporter": "python",
   "pygments_lexer": "ipython3",
   "version": "3.7.4"
  }
 },
 "nbformat": 4,
 "nbformat_minor": 2
}
