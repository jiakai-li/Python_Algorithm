{
 "cells": [
  {
   "cell_type": "code",
   "execution_count": 1,
   "metadata": {},
   "outputs": [],
   "source": [
    "# BF算法：Brute Force\n",
    "def bf_search(main_str, pattern_str):\n",
    "    n, m = len(main_str), len(pattern_str)\n",
    "    if n < m:\n",
    "        return -1\n",
    "    \n",
    "    for i in range(n - m + 1):\n",
    "        j = 0\n",
    "        while j < m:\n",
    "            if main_str[i + j] == pattern_str[j]:\n",
    "                j = j + 1\n",
    "            else:\n",
    "                break\n",
    "        if j == m:\n",
    "            return i\n",
    "    return -1"
   ]
  },
  {
   "cell_type": "code",
   "execution_count": 13,
   "metadata": {},
   "outputs": [],
   "source": [
    "def simple_hash(s, start, end, hash_table):\n",
    "    res = 0\n",
    "    length = end - start\n",
    "    for i, c in enumerate(s[start: end + 1]):\n",
    "        res += (ord(c) - ord('a')) * hash_table[length - i]\n",
    "    return res\n",
    "\n",
    "def rk_search(main_str, pattern_str): # 没有对index进行edge case处理\n",
    "    n, m = len(main_str), len(pattern_str)\n",
    "    look_up = [None] * (n-m+1)\n",
    "    hash_table = [26 ** i for i in range(m)]\n",
    "    look_up[0] = simple_hash(main_str, 0, m-1, hash_table)\n",
    "    for i in range(1, n-m+1):\n",
    "        look_up[i] = \\\n",
    "            (look_up[i-1] - hash_table[m - 1] * simple_hash(main_str, i-1, i-1, hash_table)) * 26 + \\\n",
    "            simple_hash(main_str, i+m-1, i+m-1, hash_table)\n",
    "    \n",
    "    hash_target = simple_hash(pattern_str, 0, m-1, hash_table)\n",
    "    for i, h in enumerate(look_up):\n",
    "        if hash_target == h:\n",
    "            return i\n",
    "    return -1"
   ]
  },
  {
   "cell_type": "code",
   "execution_count": 3,
   "metadata": {},
   "outputs": [],
   "source": [
    "def simple_hash2(s, start, end):\n",
    "    res = 0\n",
    "    length = end - start\n",
    "    for c in s[start: end + 1]:\n",
    "        res += ord(c) # 处理哈希值过大\n",
    "    return res\n",
    "\n",
    "def rk_search2(main_str, pattern_str):\n",
    "    n, m = len(main_str), len(pattern_str)\n",
    "    look_up = [None] * (n-m+1)\n",
    "    look_up[0] = simple_hash2(main_str, 0, m-1)\n",
    "    for i in range(1, n-m+1):\n",
    "        look_up[i] = \\\n",
    "            look_up[i-1] - simple_hash2(main_str, i-1, i-1) + simple_hash2(main_str, i+m-1, i+m-1)\n",
    "    \n",
    "    hash_target = simple_hash2(pattern_str, 0, m-1)\n",
    "    for i, h in enumerate(look_up):\n",
    "        if hash_target == h:\n",
    "            # 处理哈希冲突\n",
    "            if pattern_str == main_str[i : i+m]:\n",
    "                return i\n",
    "    return -1"
   ]
  },
  {
   "cell_type": "code",
   "execution_count": 5,
   "metadata": {},
   "outputs": [
    {
     "name": "stdout",
     "output_type": "stream",
     "text": [
      "--- time consume ---\n",
      "[bf] result: -1\n",
      "[bf] time cost: 0.5104s\n",
      "[rk] result: -1\n",
      "[rk] time cost: 0.038112s\n",
      "[rk2] result: -1\n",
      "[rk2] time cost: 0.024065s\n",
      "\n",
      "--- search ---\n",
      "[bf] result: 16\n",
      "[rk] result: 16\n",
      "[rk2] result: 16\n"
     ]
    }
   ],
   "source": [
    "from time import time\n",
    "m_str = 'a'*10000\n",
    "p_str = 'a'*200+'b'\n",
    "\n",
    "print('--- time consume ---')\n",
    "t = time()\n",
    "print('[bf] result:', bf_search(m_str, p_str))\n",
    "print('[bf] time cost: {0:.5}s'.format(time()-t))\n",
    "\n",
    "t = time()\n",
    "print('[rk] result:', rk_search(m_str, p_str))\n",
    "print('[rk] time cost: {0:.5}s'.format(time()-t))\n",
    "\n",
    "t = time()\n",
    "print('[rk2] result:', rk_search2(m_str, p_str))\n",
    "print('[rk2] time cost: {0:.5}s'.format(time()-t))\n",
    "\n",
    "print('')\n",
    "print('--- search ---')\n",
    "m_str = 'thequickbrownfoxjump1soverthelazydog'\n",
    "p_str = 'jump1'\n",
    "print('[bf] result:', bf_search(m_str, p_str))\n",
    "print('[rk] result:', rk_search(m_str, p_str))\n",
    "print('[rk2] result:', rk_search2(m_str, p_str))"
   ]
  },
  {
   "cell_type": "code",
   "execution_count": 2,
   "metadata": {},
   "outputs": [],
   "source": [
    "def simple_hash(s, st, ed, hash_table):\n",
    "    res = 0\n",
    "    length = ed - st\n",
    "    for i, c in enumerate(s[st: ed + 1]):\n",
    "        res += (ord(c) - ord('a')) * hash_table[length - i]\n",
    "    return res\n",
    "\n",
    "def rk_search(main_str, pattern_str):\n",
    "    n, m = len(main_str), len(pattern_str)\n",
    "    hash_table = [26 ** i for i in range(m)]\n",
    "    look_up = [None] * (n - m + 1)\n",
    "    look_up[0] = simple_hash(main_str, 0, m-1, hash_table)\n",
    "    for i in range(1, n - m + 1):\n",
    "        look_up[i] = (look_up[i-1] - hash_table[m-1] * simple_hash(main_str, i-1, i-1, hash_table))*26 \\\n",
    "            + simple_hash(main_str, i+m-1, i+m-1, hash_table)\n",
    "    \n",
    "    hash_target = simple_hash(pattern_str, 0, m-1, hash_table)\n",
    "    for i, h in enumerate(look_up):\n",
    "        if h == hash_target:\n",
    "            return i\n",
    "    return -1"
   ]
  },
  {
   "cell_type": "code",
   "execution_count": 3,
   "metadata": {},
   "outputs": [],
   "source": [
    "def simple_hash2(string, s, e):\n",
    "    res = 0\n",
    "    length = e - s\n",
    "    for c in string[s:e+1]:\n",
    "        res += ord(c)\n",
    "    return res\n",
    "\n",
    "def rk_search2(main_str, pattern_str):\n",
    "    n, m = len(main_str), len(pattern_str)\n",
    "    look_up = [None] * (n - m + 1)\n",
    "    look_up[0] = simple_hash2(main_str, 0, m - 1)\n",
    "    for i in range(1, n - m + 1):\n",
    "        look_up[i] = look_up[i - 1] - simple_hash2(main_str, i - 1, i - 1) + \\\n",
    "            simple_hash2(main_str, i + m - 1, i + m - 1)\n",
    "    \n",
    "    target_h = simple_hash2(pattern_str, 0, m - 1)\n",
    "    for i, h in enumerate(look_up):\n",
    "        if h == target_h:\n",
    "            if main_str[i: i + m] == pattern_str:\n",
    "                return i\n",
    "    return -1"
   ]
  },
  {
   "cell_type": "code",
   "execution_count": null,
   "metadata": {},
   "outputs": [],
   "source": []
  }
 ],
 "metadata": {
  "kernelspec": {
   "display_name": "plantandfood-py3.7",
   "language": "python",
   "name": "plantandfood"
  },
  "language_info": {
   "codemirror_mode": {
    "name": "ipython",
    "version": 3
   },
   "file_extension": ".py",
   "mimetype": "text/x-python",
   "name": "python",
   "nbconvert_exporter": "python",
   "pygments_lexer": "ipython3",
   "version": "3.7.4"
  }
 },
 "nbformat": 4,
 "nbformat_minor": 2
}
