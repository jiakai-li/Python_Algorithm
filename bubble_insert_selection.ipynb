{
 "cells": [
  {
   "cell_type": "code",
   "execution_count": 31,
   "metadata": {},
   "outputs": [],
   "source": [
    "def bubble_sort(alist):\n",
    "    cnt = 0\n",
    "    l = len(alist)\n",
    "    for i in range(l):\n",
    "        sort = True\n",
    "        for j in range(1, l - i):\n",
    "            if alist[j - 1] > alist[j]:\n",
    "                sort = False\n",
    "                alist[j - 1], alist[j] = alist[j], alist[j - 1]\n",
    "                cnt += 1\n",
    "        if sort: # 没交换的话就退出\n",
    "            return cnt\n",
    "    return cnt"
   ]
  },
  {
   "cell_type": "code",
   "execution_count": 9,
   "metadata": {},
   "outputs": [],
   "source": [
    "def insert_sort_desc(alist):\n",
    "    l = len(alist)\n",
    "    for i in range(1, l):\n",
    "        temp = alist[i]\n",
    "        j = i - 1\n",
    "        while j >= 0 and temp > alist[j]:\n",
    "            alist[j + 1] = alist[j]\n",
    "            j -= 1\n",
    "        alist[j+1] = temp\n",
    "                \n",
    "def insert_sort_asc(alist):\n",
    "    l = len(alist)\n",
    "    for i in range(1, l):\n",
    "        temp = alist[i]\n",
    "        j = i - 1\n",
    "        while j >= 0 and temp < alist[j]:\n",
    "            alist[j + 1] = alist[j]\n",
    "            j -= 1\n",
    "        alist[j+1] = temp"
   ]
  },
  {
   "cell_type": "code",
   "execution_count": 71,
   "metadata": {},
   "outputs": [],
   "source": [
    "def selection_sort(alist):\n",
    "    l = len(alist)\n",
    "    for i in range(l-1):\n",
    "        minimum = alist[i]\n",
    "        min_idx = i\n",
    "        for j in range(i+1, l):\n",
    "            if alist[j] < minimum:\n",
    "                minimum = alist[j]\n",
    "                min_idx = j\n",
    "        alist[i], alist[min_idx] = alist[min_idx], alist[i]"
   ]
  },
  {
   "cell_type": "code",
   "execution_count": 88,
   "metadata": {},
   "outputs": [],
   "source": [
    "def test_sort(f):\n",
    "    test_array = [1, 1, 1, 1]\n",
    "    f(test_array)\n",
    "    assert test_array == [1, 1, 1, 1]\n",
    "    test_array = [4, 1, 2, 3]\n",
    "    f(test_array)\n",
    "    assert test_array == [1, 2, 3, 4]\n",
    "    test_array = [4, 3, 2, 1]\n",
    "    f(test_array)\n",
    "    assert test_array == [1, 2, 3, 4]\n",
    "    test_array = [4, 3, 2, 1, 2, 3, 4]\n",
    "    f(test_array)\n",
    "    assert test_array == [1, 2, 2, 3, 3, 4, 4]\n",
    "    test_array = [1, 2, 3, 4, 3, 2, 1]\n",
    "    f(test_array)\n",
    "    assert test_array == [1, 1, 2, 2, 3, 3, 4]\n",
    "    test_array = []\n",
    "    f(test_array)\n",
    "    assert test_array == []\n",
    "    test_array = [1]\n",
    "    f(test_array)\n",
    "    assert test_array == [1]"
   ]
  },
  {
   "cell_type": "code",
   "execution_count": 89,
   "metadata": {},
   "outputs": [],
   "source": [
    "test_sort(bubble_sort)\n",
    "test_sort(insert_sort_asc)\n",
    "test_sort(selection_sort)"
   ]
  }
 ],
 "metadata": {
  "kernelspec": {
   "display_name": "plantandfood-py3.7",
   "language": "python",
   "name": "plantandfood"
  },
  "language_info": {
   "codemirror_mode": {
    "name": "ipython",
    "version": 3
   },
   "file_extension": ".py",
   "mimetype": "text/x-python",
   "name": "python",
   "nbconvert_exporter": "python",
   "pygments_lexer": "ipython3",
   "version": "3.7.4"
  }
 },
 "nbformat": 4,
 "nbformat_minor": 2
}
