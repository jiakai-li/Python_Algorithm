{
 "cells": [
  {
   "cell_type": "code",
   "execution_count": 16,
   "metadata": {},
   "outputs": [],
   "source": [
    "# Reverse order\n",
    "def count_reverse_order(a):\n",
    "    n = len(a)\n",
    "    count = 0\n",
    "    def mergeSortCounting(a, p, r):\n",
    "        if p >= r:\n",
    "            return\n",
    "        q = p + (r - p) // 2\n",
    "        mergeSortCounting(a, p, q)\n",
    "        mergeSortCounting(a, q + 1, r)\n",
    "        merge(a, p, q, r)\n",
    "\n",
    "    def merge(a, p, q, r):\n",
    "        i = p\n",
    "        j = q + 1\n",
    "        tmp = []\n",
    "        while i <= q and j <= r:\n",
    "            if a[i] <= a[j]:\n",
    "                tmp.append(a[i])\n",
    "                i += 1\n",
    "            else:\n",
    "                tmp.append(a[j])\n",
    "                nonlocal count\n",
    "                count += q - i + 1\n",
    "                j += 1\n",
    "        if i > q:\n",
    "            tmp.extend(a[j:r+1])\n",
    "        else:\n",
    "            tmp.extend(a[i:q+1])\n",
    "        a[p : r + 1] = tmp[:]\n",
    "    \n",
    "    mergeSortCounting(a, 0, n-1)\n",
    "    \n",
    "    return count"
   ]
  },
  {
   "cell_type": "code",
   "execution_count": 19,
   "metadata": {
    "pixiedust": {
     "displayParams": {}
    }
   },
   "outputs": [
    {
     "data": {
      "text/plain": [
       "6"
      ]
     },
     "execution_count": 19,
     "metadata": {},
     "output_type": "execute_result"
    }
   ],
   "source": [
    "# %%pixie_debugger\n",
    "a = [1,5,6,2,3,4]\n",
    "count_reverse_order(a)"
   ]
  }
 ],
 "metadata": {
  "kernelspec": {
   "display_name": "plantandfood-py3.7",
   "language": "python",
   "name": "plantandfood"
  },
  "language_info": {
   "codemirror_mode": {
    "name": "ipython",
    "version": 3
   },
   "file_extension": ".py",
   "mimetype": "text/x-python",
   "name": "python",
   "nbconvert_exporter": "python",
   "pygments_lexer": "ipython3",
   "version": "3.7.4"
  }
 },
 "nbformat": 4,
 "nbformat_minor": 2
}
