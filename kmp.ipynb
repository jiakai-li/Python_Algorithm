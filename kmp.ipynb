{
 "cells": [
  {
   "cell_type": "code",
   "execution_count": 1,
   "metadata": {},
   "outputs": [],
   "source": [
    "def kmp(main, pattern):\n",
    "    n, m = len(main), len(pattern)\n",
    "    next_array = get_next(pattern)\n",
    "    \n",
    "    j = 0\n",
    "    for i in range(n):\n",
    "        while j > 0 and main[i] != pattern[j]:\n",
    "            j = next_array[j - 1] + 1\n",
    "        \n",
    "        if main[i] == pattern[j]:\n",
    "            if j == m - 1:\n",
    "                return i - m + 1, next_array\n",
    "            else:\n",
    "                j += 1\n",
    "    return -1, next_array"
   ]
  },
  {
   "cell_type": "code",
   "execution_count": 2,
   "metadata": {},
   "outputs": [],
   "source": [
    "def get_next(pattern):\n",
    "    m = len(pattern)\n",
    "    next_array = [-1] * m\n",
    "    k = -1\n",
    "    \n",
    "    for i in range(1, m - 1):\n",
    "        while k != -1 and pattern[k + 1] != pattern[i]:\n",
    "            k = next_array[k]\n",
    "        if pattern[k + 1] == pattern[i]:\n",
    "            k += 1\n",
    "        next_array[i] = k\n",
    "    return next_array"
   ]
  },
  {
   "cell_type": "code",
   "execution_count": 3,
   "metadata": {},
   "outputs": [
    {
     "data": {
      "text/plain": [
       "(13, [-1, -1, -1, 0, 1, 2, -1, 0, 1, 0, -1])"
      ]
     },
     "execution_count": 3,
     "metadata": {},
     "output_type": "execute_result"
    }
   ],
   "source": [
    "kmp(\"aabbbbaaabbababbabbbabaaabb\", \"abbabbbabaa\")"
   ]
  },
  {
   "cell_type": "code",
   "execution_count": null,
   "metadata": {},
   "outputs": [],
   "source": []
  }
 ],
 "metadata": {
  "kernelspec": {
   "display_name": "plantandfood-py3.7",
   "language": "python",
   "name": "plantandfood"
  },
  "language_info": {
   "codemirror_mode": {
    "name": "ipython",
    "version": 3
   },
   "file_extension": ".py",
   "mimetype": "text/x-python",
   "name": "python",
   "nbconvert_exporter": "python",
   "pygments_lexer": "ipython3",
   "version": "3.7.4"
  }
 },
 "nbformat": 4,
 "nbformat_minor": 2
}
